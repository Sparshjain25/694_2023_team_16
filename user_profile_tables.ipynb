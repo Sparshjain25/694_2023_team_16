{
 "cells": [
  {
   "cell_type": "code",
   "execution_count": 1,
   "id": "cd319ff6",
   "metadata": {},
   "outputs": [],
   "source": [
    "import json"
   ]
  },
  {
   "cell_type": "code",
   "execution_count": 2,
   "id": "ac497462",
   "metadata": {},
   "outputs": [],
   "source": [
    "import mysql.connector"
   ]
  },
  {
   "cell_type": "code",
   "execution_count": 3,
   "id": "bba6a00c",
   "metadata": {},
   "outputs": [],
   "source": [
    "# establish connection to database\n",
    "cnx = mysql.connector.connect(user='root', \n",
    "                              password='123456', \n",
    "                              host='localhost',\n",
    "                              database='mydatabase',\n",
    "                              auth_plugin = 'mysql_native_password')\n",
    "\n",
    "cursor = cnx.cursor()\n",
    "\n",
    "# create tables if they do not already exist\n",
    "cursor.execute(\" CREATE TABLE IF NOT EXISTS user (\\\n",
    "  id VARCHAR(255) PRIMARY KEY,\\\n",
    "  name VARCHAR(255),\\\n",
    "  screen_name VARCHAR(255),\\\n",
    "  location VARCHAR(255),\\\n",
    "  description TEXT,\\\n",
    "  followers_count INT,\\\n",
    "  friends_count INT,\\\n",
    "  favourites_count INT,\\\n",
    "  statuses_count INT,\\\n",
    "  verified BOOLEAN,\\\n",
    "  created_at VARCHAR(255),\\\n",
    "  url VARCHAR(255) )\")\n",
    "\n",
    "\n",
    "cursor.execute(\"CREATE TABLE IF NOT EXISTS profile (\\\n",
    "  user_id VARCHAR(255),\\\n",
    "  profile_bg_color VARCHAR(255),\\\n",
    "  profile_bg_image_url_https VARCHAR(255),\\\n",
    "  profile_bg_file VARCHAR(255),\\\n",
    "  profile_side_bar_border_color VARCHAR(255),\\\n",
    "  profile_sidebar_fill_color VARCHAR(255),\\\n",
    "  profile_text_color VARCHAR(255),\\\n",
    "  profile_image_url_https VARCHAR(255),\\\n",
    "  profile_banner_url VARCHAR(255),\\\n",
    "  FOREIGN KEY (user_id) REFERENCES user(id) )\") \n"
   ]
  },
  {
   "cell_type": "code",
   "execution_count": null,
   "id": "66097318",
   "metadata": {},
   "outputs": [],
   "source": []
  },
  {
   "cell_type": "code",
   "execution_count": 4,
   "id": "68e17858",
   "metadata": {},
   "outputs": [],
   "source": [
    "#insert path and replace name of the file below as needed\n",
    "with open(\"corona-out-2\", \"r\") as f1:\n",
    "    for line in f1:\n",
    "        try:\n",
    "            data = json.loads(line)\n",
    "            # check if user has been seen before\n",
    "            user = data['user']\n",
    "            user_id = user['id_str']\n",
    "            cursor.execute(\"SELECT * FROM user WHERE id = %s\", (user_id,))\n",
    "            if cursor.fetchone() is None:\n",
    "                # user has not been seen before, add to user table\n",
    "                user_values = (user_id, user['name'], user['screen_name'], user['location'], user['description'], \n",
    "                               user['followers_count'], user['friends_count'], user['favourites_count'], user['statuses_count'], \n",
    "                               user['verified'], user['created_at'], user['url'])\n",
    "                cursor.execute(\"INSERT INTO user (id, name, screen_name, location, description, followers_count, \"\n",
    "                               \"friends_count, favourites_count, statuses_count, verified, created_at, url) \"\n",
    "                               \"VALUES (%s, %s, %s, %s, %s, %s, %s, %s, %s, %s, %s, %s)\", user_values)\n",
    "                \n",
    "                # add to profile table\n",
    "                profile_values = (user_id, user['profile_background_color'], user['profile_background_image_url_https'], \n",
    "                                  user['profile_background_tile'], user['profile_sidebar_border_color'], user['profile_sidebar_fill_color'], \n",
    "                                  user['profile_text_color'], user['profile_image_url_https'], user['profile_banner_url'])\n",
    "                cursor.execute(\"INSERT INTO profile (user_id, profile_bg_color, profile_bg_image_url_https, \"\n",
    "                               \"profile_bg_file, profile_side_bar_border_color, profile_sidebar_fill_color, profile_text_color, \"\n",
    "                               \"profile_image_url_https, profile_banner_url) VALUES (%s, %s, %s, %s, %s, %s, %s, %s, %s)\",\n",
    "                               profile_values)\n",
    "                \n",
    "                # commit changes to database\n",
    "                cnx.commit()\n",
    "                \n",
    "            #if (data['text'].startswith('RT')):\n",
    "                # update retweet information\n",
    "             #   pass  # does nothing right now\n",
    "                \n",
    "            #else:\n",
    "                # add the new tweet to datastore\n",
    "             #   pass # does nothing right now\n",
    "                \n",
    "        except:\n",
    "            continue\n",
    "\n",
    "# close database connection\n",
    "cursor.close()\n",
    "cnx.close()"
   ]
  },
  {
   "cell_type": "code",
   "execution_count": 5,
   "id": "b395d204",
   "metadata": {},
   "outputs": [],
   "source": [
    "cnx = mysql.connector.connect(user='root', \n",
    "                              password='123456', \n",
    "                              host='localhost',\n",
    "                              database='mydatabase',\n",
    "                              auth_plugin = 'mysql_native_password')\n",
    "\n",
    "cursor = cnx.cursor()"
   ]
  },
  {
   "cell_type": "code",
   "execution_count": 6,
   "id": "a0685c8a",
   "metadata": {},
   "outputs": [],
   "source": [
    "cursor.execute(\"SELECT * FROM user WHERE followers_count > 1000 LIMIT 5\")\n",
    "result = cursor.fetchall()\n"
   ]
  },
  {
   "cell_type": "code",
   "execution_count": 7,
   "id": "28897781",
   "metadata": {},
   "outputs": [
    {
     "data": {
      "text/plain": [
       "[('1001030727083921408',\n",
       "  'Besta Mlagila',\n",
       "  'BestaMlagila',\n",
       "  None,\n",
       "  'Model, Strong & business 👩, Napenda siasa',\n",
       "  11404,\n",
       "  635,\n",
       "  12137,\n",
       "  22407,\n",
       "  0,\n",
       "  'Mon May 28 09:21:38 +0000 2018',\n",
       "  None),\n",
       " ('1001152129153847296',\n",
       "  '👑شَهيد|•Y•B•N•L•|',\n",
       "  'Remmzor_YBNL',\n",
       "  'YBNL',\n",
       "  '@olamide_YBNL 💙  Telecommunication  major   📩 remmysaheed7@gmail.com',\n",
       "  16654,\n",
       "  9651,\n",
       "  102248,\n",
       "  165830,\n",
       "  0,\n",
       "  'Mon May 28 17:24:02 +0000 2018',\n",
       "  'http://instagram.com/remmzor'),\n",
       " ('1001524548066562048',\n",
       "  'Schwesterfraudoktor',\n",
       "  'SchwesterFD',\n",
       "  'Deutschland',\n",
       "  'Sportfanatische Landärztin und alleinerziehende Mutter mit Blog, Autorin (Buch im Nov2020), Medizinjournalistin, Hobbyköchin, Gemüsegärtnerin.',\n",
       "  21687,\n",
       "  631,\n",
       "  41255,\n",
       "  19557,\n",
       "  0,\n",
       "  'Tue May 29 18:03:54 +0000 2018',\n",
       "  'http://www.schwesterfraudoktor.de'),\n",
       " ('1001560210769670150',\n",
       "  'TWITMO INMATE ⭐️⭐️⭐️ Text TRUMP to 88022',\n",
       "  'TWITMO_INMATE',\n",
       "  'United States',\n",
       "  'THE MORE YOU RESEARCH THE CRAZIER YOU SOUND TO IGNORANT PEOPLE... WWG1WGA FB @GenFlynn and Epstein didn’t kill himself',\n",
       "  33385,\n",
       "  36639,\n",
       "  162616,\n",
       "  224714,\n",
       "  0,\n",
       "  'Tue May 29 20:25:37 +0000 2018',\n",
       "  'https://mikeflynndefensefund.org/'),\n",
       " ('100170929',\n",
       "  'Biçda',\n",
       "  'bicda',\n",
       "  'turkey',\n",
       "  'Bilişim Çalışanları Dayanışma Ağı iletisim@bilisimcalisanlari.org http://facebook.com/bicda\\nhttps://www.linkedin.com/in/bicda/',\n",
       "  5474,\n",
       "  616,\n",
       "  9127,\n",
       "  21783,\n",
       "  0,\n",
       "  'Tue Dec 29 08:01:51 +0000 2009',\n",
       "  'http://bilisimcalisanlari.wordpress.com')]"
      ]
     },
     "execution_count": 7,
     "metadata": {},
     "output_type": "execute_result"
    }
   ],
   "source": [
    "result"
   ]
  },
  {
   "cell_type": "code",
   "execution_count": 8,
   "id": "37128992",
   "metadata": {},
   "outputs": [],
   "source": [
    "cursor.close()\n",
    "cnx.close()"
   ]
  },
  {
   "cell_type": "code",
   "execution_count": null,
   "id": "31d1efe9",
   "metadata": {},
   "outputs": [],
   "source": []
  }
 ],
 "metadata": {
  "kernelspec": {
   "display_name": "Python 3 (ipykernel)",
   "language": "python",
   "name": "python3"
  },
  "language_info": {
   "codemirror_mode": {
    "name": "ipython",
    "version": 3
   },
   "file_extension": ".py",
   "mimetype": "text/x-python",
   "name": "python",
   "nbconvert_exporter": "python",
   "pygments_lexer": "ipython3",
   "version": "3.9.12"
  }
 },
 "nbformat": 4,
 "nbformat_minor": 5
}
