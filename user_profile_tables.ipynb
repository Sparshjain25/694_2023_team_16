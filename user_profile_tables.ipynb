{
 "cells": [
  {
   "cell_type": "code",
   "execution_count": 1,
   "id": "cd319ff6",
   "metadata": {},
   "outputs": [],
   "source": [
    "import json"
   ]
  },
  {
   "cell_type": "code",
   "execution_count": 2,
   "id": "ac497462",
   "metadata": {},
   "outputs": [],
   "source": [
    "import mysql.connector"
   ]
  },
  {
   "cell_type": "code",
   "execution_count": 3,
   "id": "bba6a00c",
   "metadata": {},
   "outputs": [],
   "source": [
    "# establish connection to database\n",
    "cnx = mysql.connector.connect(user='root', \n",
    "                              password='123456', \n",
    "                              host='localhost',\n",
    "                              database='mydatabase',\n",
    "                              auth_plugin = 'mysql_native_password')\n",
    "\n",
    "cursor = cnx.cursor()\n",
    "\n",
    "# create tables if they do not already exist\n",
    "cursor.execute(\" CREATE TABLE IF NOT EXISTS user (\\\n",
    "  id VARCHAR(255) PRIMARY KEY,\\\n",
    "  name VARCHAR(255),\\\n",
    "  screen_name VARCHAR(255),\\\n",
    "  location VARCHAR(255),\\\n",
    "  description TEXT,\\\n",
    "  followers_count INT,\\\n",
    "  friends_count INT,\\\n",
    "  favourites_count INT,\\\n",
    "  statuses_count INT,\\\n",
    "  verified BOOLEAN,\\\n",
    "  created_at VARCHAR(255),\\\n",
    "  url VARCHAR(255) )\")\n",
    "\n",
    "\n",
    "cursor.execute(\"CREATE TABLE IF NOT EXISTS profile (\\\n",
    "  user_id VARCHAR(255),\\\n",
    "  profile_bg_color VARCHAR(255),\\\n",
    "  profile_bg_image_url_https VARCHAR(255),\\\n",
    "  profile_bg_file VARCHAR(255),\\\n",
    "  profile_side_bar_border_color VARCHAR(255),\\\n",
    "  profile_sidebar_fill_color VARCHAR(255),\\\n",
    "  profile_text_color VARCHAR(255),\\\n",
    "  profile_image_url_https VARCHAR(255),\\\n",
    "  profile_banner_url VARCHAR(255),\\\n",
    "  FOREIGN KEY (user_id) REFERENCES user(id) )\") \n"
   ]
  },
  {
   "cell_type": "code",
   "execution_count": 4,
   "id": "66097318",
   "metadata": {},
   "outputs": [],
   "source": [
    "with open(\"corona-out-2\", \"r\") as f1:\n",
    "    for line in f1:\n",
    "        try:\n",
    "            data = json.loads(line)\n",
    "            if (data['text'].startswith('RT')):\n",
    "                #adding retweet in user details\n",
    "                cursor.execute(\"SELECT * FROM user WHERE id = %s\", (data['user']['id_str'],))\n",
    "                if (cursor.fetchone() is None):\n",
    "                    user = data['user']\n",
    "                    user_id = user['id_str']\n",
    "                    user_values = (user_id, user['name'], user['screen_name'], user['location'], user['description'], \n",
    "                     user['followers_count'], user['friends_count'], user['favourites_count'], user['statuses_count'], \n",
    "                     user['verified'], user['created_at'], user['url'])\n",
    "                    cursor.execute(\"INSERT INTO user (id, name, screen_name, location, description, followers_count, \"\n",
    "                               \"friends_count, favourites_count, statuses_count, verified, created_at, url) \"\n",
    "                               \"VALUES (%s, %s, %s, %s, %s, %s, %s, %s, %s, %s, %s, %s)\", user_values)\n",
    "                    \n",
    "                \n",
    "                #adding quoted tweet\n",
    "                if (data['is_quote_status']):\n",
    "                    cursor.execute(\"SELECT * FROM user WHERE id = %s\", (data['quoted_status']['user']['id_str'],))\n",
    "                    if (cursor.fetchone() is None):\n",
    "                        user = data['quoted_status']['user']\n",
    "                        user_id = user['id_str']\n",
    "                        user_values = (user_id, user['name'], user['screen_name'], user['location'], user['description'], \n",
    "                         user['followers_count'], user['friends_count'], user['favourites_count'], user['statuses_count'], \n",
    "                         user['verified'], user['created_at'], user['url'])\n",
    "                        cursor.execute(\"INSERT INTO user (id, name, screen_name, location, description, followers_count, \"\n",
    "                                   \"friends_count, favourites_count, statuses_count, verified, created_at, url) \"\n",
    "                                   \"VALUES (%s, %s, %s, %s, %s, %s, %s, %s, %s, %s, %s, %s)\", user_values)\n",
    "                \n",
    "                #adding retweeted tweet user details\n",
    "                cursor.execute(\"SELECT * FROM user WHERE id = %s\", (data['retweeted_status']['user']['id_str'],))\n",
    "                if (cursor.fetchone() is None):\n",
    "                    user = data['retweeted_status']['user']\n",
    "                    user_id = user['id_str']\n",
    "                    user_values = (user_id, user['name'], user['screen_name'], user['location'], user['description'], \n",
    "                     user['followers_count'], user['friends_count'], user['favourites_count'], user['statuses_count'], \n",
    "                     user['verified'], user['created_at'], user['url'])\n",
    "                    cursor.execute(\"INSERT INTO user (id, name, screen_name, location, description, followers_count, \"\n",
    "                               \"friends_count, favourites_count, statuses_count, verified, created_at, url) \"\n",
    "                               \"VALUES (%s, %s, %s, %s, %s, %s, %s, %s, %s, %s, %s, %s)\", user_values)\n",
    "                \n",
    "            else:\n",
    "                 #adding quoted tweet\n",
    "                if (data['is_quote_status']):    #check if tweet is quoted\n",
    "                    cursor.execute(\"SELECT * FROM user WHERE id = %s\", (data['quoted_status']['user']['id_str'],))\n",
    "                    if (cursor.fetchone() is None):\n",
    "                        user = data['quoted_status']['user']\n",
    "                        user_id = user['id_str']\n",
    "                        user_values = (user_id, user['name'], user['screen_name'], user['location'], user['description'], \n",
    "                         user['followers_count'], user['friends_count'], user['favourites_count'], user['statuses_count'], \n",
    "                         user['verified'], user['created_at'], user['url'])\n",
    "                        cursor.execute(\"INSERT INTO user (id, name, screen_name, location, description, followers_count, \"\n",
    "                                   \"friends_count, favourites_count, statuses_count, verified, created_at, url) \"\n",
    "                                   \"VALUES (%s, %s, %s, %s, %s, %s, %s, %s, %s, %s, %s, %s)\", user_values)\n",
    "                \n",
    "                #adding retweeted tweet user details\n",
    "                cursor.execute(\"SELECT * FROM user WHERE id = %s\", (data['user']['id_str'],))\n",
    "                if (cursor.fetchone() is None):\n",
    "                    user = data['user']\n",
    "                    user_id = user['id_str']\n",
    "                    user_values = (user_id, user['name'], user['screen_name'], user['location'], user['description'], \n",
    "                     user['followers_count'], user['friends_count'], user['favourites_count'], user['statuses_count'], \n",
    "                     user['verified'], user['created_at'], user['url'])\n",
    "                    cursor.execute(\"INSERT INTO user (id, name, screen_name, location, description, followers_count, \"\n",
    "                               \"friends_count, favourites_count, statuses_count, verified, created_at, url) \"\n",
    "                               \"VALUES (%s, %s, %s, %s, %s, %s, %s, %s, %s, %s, %s, %s)\", user_values)\n",
    "        except:\n",
    "            continue"
   ]
  },
  {
   "cell_type": "code",
   "execution_count": 10,
   "id": "93cd5d1f",
   "metadata": {},
   "outputs": [
    {
     "data": {
      "text/plain": [
       "[(18601,)]"
      ]
     },
     "execution_count": 10,
     "metadata": {},
     "output_type": "execute_result"
    }
   ],
   "source": [
    "cursor.execute(\"SELECT count(distinct(name)) FROM user\")\n",
    "users_count = cursor.fetchall()\n",
    "users_count"
   ]
  },
  {
   "cell_type": "code",
   "execution_count": 6,
   "id": "28897781",
   "metadata": {},
   "outputs": [
    {
     "name": "stdout",
     "output_type": "stream",
     "text": [
      "Query took 0.01 seconds\n"
     ]
    }
   ],
   "source": [
    "import time\n",
    "\n",
    "start_time = time.time()\n",
    "\n",
    "cursor.execute(\"SELECT * FROM user LIMIT 20\")\n",
    "result = cursor.fetchall()\n",
    "\n",
    "end_time = time.time()\n",
    "total_time = end_time - start_time\n",
    "\n",
    "print(\"Query took {:.2f} seconds\".format(total_time))"
   ]
  },
  {
   "cell_type": "code",
   "execution_count": 13,
   "id": "070bac05",
   "metadata": {},
   "outputs": [
    {
     "name": "stdout",
     "output_type": "stream",
     "text": [
      "Query took 0.31 seconds\n"
     ]
    }
   ],
   "source": [
    "import time\n",
    "\n",
    "start_time = time.time()\n",
    "\n",
    "cursor.execute(\"SELECT * FROM user\")\n",
    "result = cursor.fetchall()\n",
    "\n",
    "end_time = time.time()\n",
    "total_time = end_time - start_time\n",
    "\n",
    "print(\"Query took {:.2f} seconds\".format(total_time))"
   ]
  },
  {
   "cell_type": "code",
   "execution_count": 15,
   "id": "1638a27e",
   "metadata": {},
   "outputs": [],
   "source": [
    "cursor.close()\n",
    "cnx.close()"
   ]
  },
  {
   "cell_type": "code",
   "execution_count": null,
   "id": "0016df0d",
   "metadata": {},
   "outputs": [],
   "source": []
  }
 ],
 "metadata": {
  "kernelspec": {
   "display_name": "Python 3 (ipykernel)",
   "language": "python",
   "name": "python3"
  },
  "language_info": {
   "codemirror_mode": {
    "name": "ipython",
    "version": 3
   },
   "file_extension": ".py",
   "mimetype": "text/x-python",
   "name": "python",
   "nbconvert_exporter": "python",
   "pygments_lexer": "ipython3",
   "version": "3.9.12"
  }
 },
 "nbformat": 4,
 "nbformat_minor": 5
}
