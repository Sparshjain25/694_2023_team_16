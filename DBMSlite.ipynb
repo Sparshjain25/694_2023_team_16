{
 "cells": [
  {
   "cell_type": "code",
   "execution_count": 1,
   "id": "dcae2496",
   "metadata": {},
   "outputs": [],
   "source": [
    "import csv\n",
    "import sqlite3\n",
    "import pandas as pd\n",
    "import json"
   ]
  },
  {
   "cell_type": "code",
   "execution_count": 2,
   "id": "c086463a",
   "metadata": {},
   "outputs": [],
   "source": [
    "conn = sqlite3.connect('mydatabase.db')\n",
    "cursor = conn.cursor()"
   ]
  },
  {
   "cell_type": "code",
   "execution_count": 3,
   "id": "f682c6fb",
   "metadata": {},
   "outputs": [
    {
     "data": {
      "text/plain": [
       "<sqlite3.Cursor at 0x7fea09d83490>"
      ]
     },
     "execution_count": 3,
     "metadata": {},
     "output_type": "execute_result"
    }
   ],
   "source": [
    "cursor.execute(\" CREATE TABLE IF NOT EXISTS user (\\\n",
    "  id VARCHAR(255) PRIMARY KEY,\\\n",
    "  name VARCHAR(255),\\\n",
    "  screen_name VARCHAR(255),\\\n",
    "  location VARCHAR(255),\\\n",
    "  description TEXT,\\\n",
    "  followers_count INT,\\\n",
    "  friends_count INT,\\\n",
    "  favourites_count INT,\\\n",
    "  statuses_count INT,\\\n",
    "  verified BOOLEAN,\\\n",
    "  created_at VARCHAR(255),\\\n",
    "  url VARCHAR(255) )\")"
   ]
  },
  {
   "cell_type": "code",
   "execution_count": 10,
   "id": "f2e69d2a",
   "metadata": {},
   "outputs": [],
   "source": [
    "with open(\"/Users/mayank/Downloads/corona_out_2.txt\", \"r\") as f1:\n",
    "#     print(\"opened\")\n",
    "    for line in f1:\n",
    "        try:\n",
    "            data = json.loads(line)\n",
    "            #print(\"loaded\")\n",
    "            if (data['text'].startswith('RT')):\n",
    "                #adding retweet in user details\n",
    "                cursor.execute(f\"SELECT * FROM user WHERE id = {data['user']['id_str']}\")\n",
    "                #print(cursor.fetchall() is None)\n",
    "                if (not len(cursor.fetchall())):\n",
    "#                     print(\"1\")\n",
    "                    user = data['user']\n",
    "                    user_id = user['id_str']\n",
    "                    user_values = (user_id, user['name'], user['screen_name'], user['location'], user['description'], \n",
    "                     user['followers_count'], user['friends_count'], user['favourites_count'], user['statuses_count'], \n",
    "                     user['verified'], user['created_at'], user['url'])\n",
    "                    cursor.execute(\"INSERT INTO user (id, name, screen_name, location, description, followers_count, \"\n",
    "                               \"friends_count, favourites_count, statuses_count, verified, created_at, url) \"\n",
    "                               \"VALUES (?, ?, ?, ?, ?, ?, ?, ?, ?, ?, ?, ?)\", user_values)\n",
    "#                     print(\"exec\")\n",
    "\n",
    "                \n",
    "                #adding quoted tweet\n",
    "                if (data['is_quote_status']):\n",
    "                    cursor.execute(\"SELECT * FROM user WHERE id = ?\", (data['quoted_status']['user']['id_str'],))\n",
    "                    if (not len(cursor.fetchall())):                        \n",
    "#                         print(\"2\")\n",
    "                        user = data['quoted_status']['user']\n",
    "                        user_id = user['id_str']\n",
    "                        user_values = (user_id, user['name'], user['screen_name'], user['location'], user['description'], \n",
    "                         user['followers_count'], user['friends_count'], user['favourites_count'], user['statuses_count'], \n",
    "                         user['verified'], user['created_at'], user['url'])\n",
    "                        cursor.execute(\"INSERT INTO user (id, name, screen_name, location, description, followers_count, \"\n",
    "                                   \"friends_count, favourites_count, statuses_count, verified, created_at, url) \"\n",
    "                                   \"VALUES (?, ?, ?, ?, ?, ?, ?, ?, ?, ?, ?, ?)\", user_values)\n",
    "                        #print(\"exec\")\n",
    "\n",
    "                \n",
    "                #adding retweeted tweet user details\n",
    "                cursor.execute(\"SELECT * FROM user WHERE id = ?\", (data['retweeted_status']['user']['id_str'],))\n",
    "                if (not len(cursor.fetchall())):\n",
    "#                     print(\"3\")\n",
    "                    user = data['retweeted_status']['user']\n",
    "                    user_id = user['id_str']\n",
    "                    user_values = (user_id, user['name'], user['screen_name'], user['location'], user['description'], \n",
    "                     user['followers_count'], user['friends_count'], user['favourites_count'], user['statuses_count'], \n",
    "                     user['verified'], user['created_at'], user['url'])\n",
    "                    cursor.execute(\"INSERT INTO user (id, name, screen_name, location, description, followers_count, \"\n",
    "                               \"friends_count, favourites_count, statuses_count, verified, created_at, url) \"\n",
    "                               \"VALUES (?, ?, ?, ?, ?, ?, ?, ?, ?, ?, ?, ?)\", user_values)\n",
    "                    #print(\"exec\")\n",
    "\n",
    "                    \n",
    "            else:\n",
    "                 #adding quoted tweet\n",
    "                if (data['is_quote_status']):    #check if tweet is quoted\n",
    "                    cursor.execute(\"SELECT * FROM user WHERE id = ?\", (data['quoted_status']['user']['id_str'],))\n",
    "                    if (not len(cursor.fetchall())):\n",
    "                        #print(\"4\")\n",
    "                        user = data['quoted_status']['user']\n",
    "                        user_id = user['id_str']\n",
    "                        user_values = (user_id, user['name'], user['screen_name'], user['location'], user['description'], \n",
    "                         user['followers_count'], user['friends_count'], user['favourites_count'], user['statuses_count'], \n",
    "                         user['verified'], user['created_at'], user['url'])\n",
    "                        cursor.execute(\"INSERT INTO user (id, name, screen_name, location, description, followers_count, \"\n",
    "                                   \"friends_count, favourites_count, statuses_count, verified, created_at, url) \"\n",
    "                                   \"VALUES (?, ?, ?, ?, ?, ?, ?, ?, ?, ?, ?, ?)\", user_values)\n",
    "                        #print(\"exec\")\n",
    "\n",
    "                        \n",
    "                #adding retweeted tweet user details\n",
    "                cursor.execute(\"SELECT * FROM user WHERE id = ?\", (data['user']['id_str'],))\n",
    "                if (not len(cursor.fetchall())):\n",
    "                    #print(\"5\")\n",
    "                    user = data['user']\n",
    "                    user_id = user['id_str']\n",
    "                    user_values = (user_id, user['name'], user['screen_name'], user['location'], user['description'], \n",
    "                     user['followers_count'], user['friends_count'], user['favourites_count'], user['statuses_count'], \n",
    "                     user['verified'], user['created_at'], user['url'])\n",
    "                    cursor.execute(\"INSERT INTO user (id, name, screen_name, location, description, followers_count, \"\n",
    "                               \"friends_count, favourites_count, statuses_count, verified, created_at, url) \"\n",
    "                               \"VALUES (?, ?, ?, ?, ?, ?, ?, ?, ?, ?, ?, ?)\", user_values)\n",
    "                    #print(\"exec\")\n",
    "\n",
    "        except:\n",
    "            print\n",
    "            continue"
   ]
  },
  {
   "cell_type": "code",
   "execution_count": 11,
   "id": "57cbac20",
   "metadata": {},
   "outputs": [
    {
     "data": {
      "text/plain": [
       "[(19230,)]"
      ]
     },
     "execution_count": 11,
     "metadata": {},
     "output_type": "execute_result"
    }
   ],
   "source": [
    "cursor.execute(\"SELECT count(distinct(id)) FROM user\")\n",
    "users_count = cursor.fetchall()\n",
    "users_count"
   ]
  },
  {
   "cell_type": "code",
   "execution_count": 12,
   "id": "6ac0d3cf",
   "metadata": {},
   "outputs": [
    {
     "data": {
      "text/plain": [
       "[('46769281',\n",
       "  'Gucci Mane',\n",
       "  'gucci1017',\n",
       "  'EAST ATLANTA',\n",
       "  'Major Label Recording Artist, signed to Atlantic Records. | wizopbooking@gmail.com',\n",
       "  8483937,\n",
       "  1,\n",
       "  11016,\n",
       "  21123,\n",
       "  1,\n",
       "  'Fri Jun 12 22:52:05 +0000 2009',\n",
       "  'https://guccimane.lnk.to/Woptober2'),\n",
       " ('16144221',\n",
       "  'NUFF',\n",
       "  'nuffsaidny',\n",
       "  None,\n",
       "  'instagram: @nuffsaidny 🇹🇹',\n",
       "  17112,\n",
       "  1515,\n",
       "  15790,\n",
       "  2599,\n",
       "  0,\n",
       "  'Fri Sep 05 14:28:41 +0000 2008',\n",
       "  None),\n",
       " ('1897514666',\n",
       "  'Dharmendra Pradhan',\n",
       "  'dpradhanbjp',\n",
       "  'Delhi/Odisha/India',\n",
       "  'Minister of Petroleum & Natural Gas and Minister of Steel, Government of India. Views personal. RTs not endorsement',\n",
       "  1209645,\n",
       "  1660,\n",
       "  8542,\n",
       "  39050,\n",
       "  1,\n",
       "  'Mon Sep 23 14:45:38 +0000 2013',\n",
       "  'http://dpradhanbjp.com'),\n",
       " ('14135350',\n",
       "  'Bianna Golodryga',\n",
       "  'biannagolodryga',\n",
       "  'New York',\n",
       "  '@CNN Senior Global Affairs analyst, journalist, wife, mother, proud immigrant, ❤️ Houston, TX 🤘',\n",
       "  148430,\n",
       "  3376,\n",
       "  23343,\n",
       "  13104,\n",
       "  1,\n",
       "  'Wed Mar 12 21:25:29 +0000 2008',\n",
       "  'http://biannagolodryga.com'),\n",
       " ('988174833849634816',\n",
       "  'TV Conservador / Metró',\n",
       "  'TVConservador',\n",
       "  'Belém, Brasil',\n",
       "  'Emissora afiliada a Rede Metrópole (@cnt_pr) no estado do Pará. As notícias aqui dadas são FICTÍCIAS, não pegue corda ok 👍\\n\\n© Sistema O Conservador Ltda.',\n",
       "  7240,\n",
       "  566,\n",
       "  18417,\n",
       "  22665,\n",
       "  0,\n",
       "  'Sun Apr 22 21:56:54 +0000 2018',\n",
       "  None)]"
      ]
     },
     "execution_count": 12,
     "metadata": {},
     "output_type": "execute_result"
    }
   ],
   "source": [
    "cursor.execute(\"SELECT * FROM user WHERE followers_count > 1000 LIMIT 5\")\n",
    "result = cursor.fetchall()\n",
    "result"
   ]
  },
  {
   "cell_type": "code",
   "execution_count": 9,
   "id": "5f7b127a",
   "metadata": {},
   "outputs": [
    {
     "data": {
      "text/plain": [
       "[]"
      ]
     },
     "execution_count": 9,
     "metadata": {},
     "output_type": "execute_result"
    }
   ],
   "source": []
  },
  {
   "cell_type": "code",
   "execution_count": null,
   "id": "a89654a8",
   "metadata": {},
   "outputs": [],
   "source": []
  }
 ],
 "metadata": {
  "kernelspec": {
   "display_name": "Python 3 (ipykernel)",
   "language": "python",
   "name": "python3"
  },
  "language_info": {
   "codemirror_mode": {
    "name": "ipython",
    "version": 3
   },
   "file_extension": ".py",
   "mimetype": "text/x-python",
   "name": "python",
   "nbconvert_exporter": "python",
   "pygments_lexer": "ipython3",
   "version": "3.9.13"
  }
 },
 "nbformat": 4,
 "nbformat_minor": 5
}
